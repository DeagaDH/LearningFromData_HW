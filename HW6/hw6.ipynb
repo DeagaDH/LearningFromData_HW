{
 "metadata": {
  "language_info": {
   "codemirror_mode": {
    "name": "ipython",
    "version": 3
   },
   "file_extension": ".py",
   "mimetype": "text/x-python",
   "name": "python",
   "nbconvert_exporter": "python",
   "pygments_lexer": "ipython3",
   "version": "3.8.5-final"
  },
  "orig_nbformat": 2,
  "kernelspec": {
   "name": "python3",
   "display_name": "Python 3",
   "language": "python"
  }
 },
 "nbformat": 4,
 "nbformat_minor": 2,
 "cells": [
  {
   "source": [
    "# QUESTION 1\n",
    "\n",
    "Since $H'$ is a subset of $H$, the deterministic noise should, in general, increase, as $H'$ has less hypotheses available than $H$. Therefore, the correct alternative is **alternative b.**"
   ],
   "cell_type": "markdown",
   "metadata": {}
  },
  {
   "source": [
    "# QUESTION 2 (CODE)"
   ],
   "cell_type": "markdown",
   "metadata": {}
  },
  {
   "cell_type": "code",
   "execution_count": 4,
   "metadata": {},
   "outputs": [
    {
     "output_type": "stream",
     "name": "stdout",
     "text": [
      "Ein  = 0.03\nEout = 0.08\n"
     ]
    }
   ],
   "source": [
    "from hw6_func import *\n",
    "\n",
    "#Initialize a data set of x (inputs) and y (target values)\n",
    "x,y = read_hw6_datasets('in.dta')\n",
    "\n",
    "#Transform x inputs\n",
    "x_tilde = hw6_transform(x)\n",
    "\n",
    "#Initialize a LinearRegression object with the x and y lists\n",
    "linreg = LinearRegression(x_tilde,y)\n",
    "\n",
    "#Calculate the linear regression\n",
    "linreg.learn()\n",
    "\n",
    "#Test learning in sample\n",
    "e_in = linreg.test_learning(x_tilde,y)\n",
    "\n",
    "#Now create a test dataset\n",
    "x_test,y_test = read_hw6_datasets('out.dta')\n",
    "\n",
    "#Transform x_test inputs\n",
    "x_test_tilde = hw6_transform(x_test)\n",
    "\n",
    "#Test learning out of sample\n",
    "e_out = linreg.test_learning(x_test_tilde,y_test)\n",
    "\n",
    "# Print results\n",
    "print(f'Ein  = {round(e_in,2)}')\n",
    "print(f'Eout = {round(e_out,2)}')\n"
   ]
  },
  {
   "source": [
    "# QUESTION 2 (ANSWER)\n",
    "\n",
    "From the above code, we can see that the correct alternative is **alternative a.**"
   ],
   "cell_type": "markdown",
   "metadata": {}
  },
  {
   "source": [
    "# QUESTION 7\n",
    "\n",
    "Comparing the two given equations, we can immediately eliminate **alternatives b and d**, as these alternatives have $C = 1$, which will lead to the second equations having different coefficients when compared to the first one for $q \\geq Q_o$. We can also readily eliminate **alternative a**, as the union of the two sets would lead to repeat elements.\n",
    "\n",
    "Analysing alternative c, we have that:\n",
    "\n",
    "\\begin{align}\n",
    "H(10,0,3) = \\Big\\lbrace h | h(x) &= \\sum_q^2 w_q L_q(x) \\Big\\rbrace \\\\ \\\\\n",
    "H(10,0,4) = \\Big\\lbrace h | h(x) &= \\sum_q^3 w_q L_q(x) \\Big\\rbrace \\\\ \\\\\n",
    "H(10,0,3) \\cap H(10,0,4) = \\Big\\lbrace h | h(x) &= \\sum_q^2 w_q L_q(x) \\Big\\rbrace = H_2\n",
    "\\end{align}\n",
    "\n",
    "Therefore, **alternative c is correct!**\n"
   ],
   "cell_type": "markdown",
   "metadata": {}
  },
  {
   "cell_type": "code",
   "execution_count": null,
   "metadata": {},
   "outputs": [],
   "source": []
  }
 ]
}