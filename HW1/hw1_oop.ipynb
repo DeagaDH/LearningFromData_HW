{
 "metadata": {
  "language_info": {
   "codemirror_mode": {
    "name": "ipython",
    "version": 3
   },
   "file_extension": ".py",
   "mimetype": "text/x-python",
   "name": "python",
   "nbconvert_exporter": "python",
   "pygments_lexer": "ipython3",
   "version": "3.8.3-final"
  },
  "orig_nbformat": 2,
  "kernelspec": {
   "name": "python3",
   "display_name": "Python 3",
   "language": "python"
  }
 },
 "nbformat": 4,
 "nbformat_minor": 2,
 "cells": [
  {
   "source": [
    "Implementation of questions 7-10 for Homework #1 from \"Learning from Data\" / Professor Yaser Abu-Mostafa, Caltech\n",
    "http://work.caltech.edu/homework/hw1.pdf\n",
    "\n",
    "This notebook contains only the execution of the solution, along with the displayed results.\n",
    "The various functions used in this notebook, along with the perceptron class utilized, are\n",
    "defined in the hw1_func.py auxiliary file.\n",
    "\n",
    "\n",
    "Date: 11/02/2021\n",
    "Author: Deaga"
   ],
   "cell_type": "markdown",
   "metadata": {}
  },
  {
   "cell_type": "code",
   "execution_count": 4,
   "metadata": {
    "tags": []
   },
   "outputs": [
    {
     "output_type": "stream",
     "name": "stdout",
     "text": [
      "Running experiment number 1...\n",
      "Running experiment number 50...\n",
      "Running experiment number 100...\n",
      "Running experiment number 150...\n",
      "Running experiment number 200...\n",
      "Running experiment number 250...\n",
      "Running experiment number 300...\n",
      "Running experiment number 350...\n",
      "Running experiment number 400...\n",
      "Running experiment number 450...\n",
      "Running experiment number 500...\n",
      "Running experiment number 550...\n",
      "Running experiment number 600...\n",
      "Running experiment number 650...\n",
      "Running experiment number 700...\n",
      "Running experiment number 750...\n",
      "Running experiment number 800...\n",
      "Running experiment number 850...\n",
      "Running experiment number 900...\n",
      "Running experiment number 950...\n",
      "Running experiment number 1000...\n",
      "\n",
      "Average number of iterations to converge: 12\n",
      "Average error probability: 11.33%\n"
     ]
    }
   ],
   "source": [
    "import random\n",
    "import pandas as pd\n",
    "import numpy as np \n",
    "from hw1_func import *\n",
    "\n",
    "#Initialize the problem\n",
    "#Coordinate limits for x and y\n",
    "xlim=[-1,1]\n",
    "ylim=[-1,1]\n",
    "\n",
    "#Number of points from the data set\n",
    "N = 10\n",
    "N_test = 10*N #Test data set\n",
    "\n",
    "#How many experiments to run?\n",
    "N_exp=1000\n",
    "\n",
    "#Define maximum number of iterations per experiment\n",
    "max_iter=100\n",
    "\n",
    "#Create empty list to store how many iterations it took in each experiment\n",
    "actual_iter=[] \n",
    "\n",
    "#List with the probability of error for each run\n",
    "error_probability=[]\n",
    "\n",
    "for exp in range(0,N_exp):\n",
    "\n",
    "    #Display current experiment in console, every 50 experiments\n",
    "    if (exp+1 == 1) or ((exp+1) % 50 ==0):\n",
    "        print(f'Running experiment number {exp+1}...')\n",
    "\n",
    "    #Target line\n",
    "    target_function = line(random=True,xlim=xlim,ylim=ylim).map   \n",
    "\n",
    "    #Initialize a data set of x (point coordinates) and y (target values)\n",
    "    x,y = create_dataset(random_point,target_function,N)\n",
    "\n",
    "    #Initialize perceptron with the x and y lists\n",
    "    p = perceptron(x,y)\n",
    "\n",
    "    #Apply the learning algorithm and store iteration count\n",
    "    iter_count = p.learn(max_iter=max_iter)\n",
    "    actual_iter.append(iter_count)\n",
    "\n",
    "    #Now create a test dataset\n",
    "    x_test,y_test = create_dataset(random_point,target_function,N_test)\n",
    "\n",
    "    #Test learning\n",
    "    error_probability.append(p.test_learning(x_test,y_test))\n",
    "\n",
    "#Print results\n",
    "print(f'\\nAverage number of iterations to converge: {int(round(np.average(actual_iter),0))}')\n",
    "print(f'Average error probability: {round(np.average(error_probability)*100,2)}%')"
   ]
  },
  {
   "cell_type": "code",
   "execution_count": null,
   "metadata": {},
   "outputs": [],
   "source": []
  }
 ]
}