{
 "metadata": {
  "language_info": {
   "codemirror_mode": {
    "name": "ipython",
    "version": 3
   },
   "file_extension": ".py",
   "mimetype": "text/x-python",
   "name": "python",
   "nbconvert_exporter": "python",
   "pygments_lexer": "ipython3",
   "version": "3.8.5-final"
  },
  "orig_nbformat": 2,
  "kernelspec": {
   "name": "python3",
   "display_name": "Python 3.8.5 64-bit (conda)",
   "metadata": {
    "interpreter": {
     "hash": "b3ba2566441a7c06988d0923437866b63cedc61552a5af99d1f4fb67d367b25f"
    }
   }
  }
 },
 "nbformat": 4,
 "nbformat_minor": 2,
 "cells": [
  {
   "source": [
    "# QUESTION 1\n",
    "\n",
    "The input space has dimension $d = 2$, such that the inputs may be interpreted as\n",
    "\n",
    "\\begin{equation}\n",
    "    \\boldsymbol x = (x_1,x_2)\n",
    "\\end{equation}\n",
    "\n",
    "When applying a polynomial transform of order $Q$, the new dimensionality can be obtained recursively as:\n",
    "\n",
    "\\begin{equation}\n",
    "    d_Q = d_{Q-1} + (Q+1)\n",
    "\\end{equation}\n",
    "\n",
    "Since we know the dimensionality of the base case ($Q=1$) to be $d = 2$, we can evaluate the dimensionality for $Q = 10$ as:\n",
    "\n",
    "\\begin{equation}\n",
    "    d_{Q=10} = 2 + \\sum_{i=2}^{10} (i+1) = \\sum_{j=2}^{11} j\n",
    "\\end{equation}\n",
    "\n",
    "Solving this equation, we arrive at the final answer:\n",
    "\n",
    "\\begin{equation}\n",
    "    \\boxed{d_{Q=10} = 65} \\quad \\text{(Alternative e.)}\n",
    "\\end{equation}"
   ],
   "cell_type": "markdown",
   "metadata": {}
  },
  {
   "source": [
    "# QUESTION 2\n",
    "\n",
    "**Alternative d.**"
   ],
   "cell_type": "markdown",
   "metadata": {}
  },
  {
   "source": [
    "# QUESTION 3\n",
    "\n",
    "**Alternative d.** 'Always' is a very strong word. Surely there are cases where a mere analysis of $(E_{in} - E_{out})$ won't be enough to predict overfitting."
   ],
   "cell_type": "markdown",
   "metadata": {}
  },
  {
   "source": [
    "# QUESTION 4\n",
    "\n",
    "**Alternative d.** In layman's terms, stochastic noise can de described as random noise in the dataset. Therefore, it does **NOT** depend on the hypothesis set, as said in alternative d."
   ],
   "cell_type": "markdown",
   "metadata": {}
  },
  {
   "source": [
    "# QUESTION 5\n",
    "\n",
    "From the problem statement, we can see that the linear regression solution already satisfies the desired constraint. Therefore, the solution with the constraint, $\\boldsymbol w_{reg}$ should be the same as the linear regression solution, i.e $\\boldsymbol w_{reg} = \\boldsymbol w_{lin}$. The correct alternative is **alternative a.**"
   ],
   "cell_type": "markdown",
   "metadata": {}
  },
  {
   "source": [
    "# QUESTION 6\n",
    "\n",
    "**Alternative b.**, see https://work.caltech.edu/library/124.pdf"
   ],
   "cell_type": "markdown",
   "metadata": {}
  },
  {
   "source": [
    "# QUESTIONS 7 AND 8 (CODE)"
   ],
   "cell_type": "markdown",
   "metadata": {}
  },
  {
   "cell_type": "code",
   "execution_count": 1,
   "metadata": {},
   "outputs": [
    {
     "output_type": "stream",
     "name": "stdout",
     "text": [
      "QUESTION 7\n",
      "Corresponding y1 = 8\n",
      "Ein = 0.074\n",
      "\n",
      "QUESTION 8\n",
      "Corresponding y1 = 1\n",
      "Ein = 0.012\n",
      "\n"
     ]
    }
   ],
   "source": [
    "from final_func import *\n",
    "\n",
    "#Question 7, see final_func.py for details\n",
    "questions7and8(y1_list=[5,6,7,8,9],q=7)\n",
    "\n",
    "#Question\n",
    "questions7and8(y1_list=[0,1,2,3,4],q=8)"
   ]
  },
  {
   "source": [
    "# QUESTION 7 AND 8 (ANSWERS)\n",
    "\n",
    "From the above code, the answers are:\n",
    "\n",
    "## QUESTION 7\n",
    "**Alternative d.**\n",
    "\n",
    "## QUESTION 8\n",
    "**Alternative b.**"
   ],
   "cell_type": "markdown",
   "metadata": {}
  },
  {
   "source": [
    "# QUESTION 9 (CODE)"
   ],
   "cell_type": "markdown",
   "metadata": {}
  },
  {
   "cell_type": "code",
   "execution_count": 2,
   "metadata": {},
   "outputs": [
    {
     "output_type": "execute_result",
     "data": {
      "text/plain": [
       "   y1      E_in     E_out     E_in~    E_out~  Comparison95  E_out~ < Eout\n",
       "0   0  0.109313  0.115097  0.102318  0.106627          True           True\n",
       "1   1  0.015224  0.022422  0.012344  0.021923         False           True\n",
       "2   2  0.100261  0.098655  0.100261  0.098655         False          False\n",
       "3   3  0.090248  0.082711  0.090248  0.082711         False          False\n",
       "4   4  0.089425  0.099651  0.089425  0.099651         False          False\n",
       "5   5  0.076258  0.079721  0.076258  0.079223         False           True\n",
       "6   6  0.091071  0.084704  0.091071  0.084704         False          False\n",
       "7   7  0.088465  0.073244  0.088465  0.073244         False          False\n",
       "8   8  0.074338  0.082711  0.074338  0.082711         False          False\n",
       "9   9  0.088328  0.088191  0.088328  0.088191         False          False"
      ],
      "text/html": "<div>\n<style scoped>\n    .dataframe tbody tr th:only-of-type {\n        vertical-align: middle;\n    }\n\n    .dataframe tbody tr th {\n        vertical-align: top;\n    }\n\n    .dataframe thead th {\n        text-align: right;\n    }\n</style>\n<table border=\"1\" class=\"dataframe\">\n  <thead>\n    <tr style=\"text-align: right;\">\n      <th></th>\n      <th>y1</th>\n      <th>E_in</th>\n      <th>E_out</th>\n      <th>E_in~</th>\n      <th>E_out~</th>\n      <th>Comparison95</th>\n      <th>E_out~ &lt; Eout</th>\n    </tr>\n  </thead>\n  <tbody>\n    <tr>\n      <th>0</th>\n      <td>0</td>\n      <td>0.109313</td>\n      <td>0.115097</td>\n      <td>0.102318</td>\n      <td>0.106627</td>\n      <td>True</td>\n      <td>True</td>\n    </tr>\n    <tr>\n      <th>1</th>\n      <td>1</td>\n      <td>0.015224</td>\n      <td>0.022422</td>\n      <td>0.012344</td>\n      <td>0.021923</td>\n      <td>False</td>\n      <td>True</td>\n    </tr>\n    <tr>\n      <th>2</th>\n      <td>2</td>\n      <td>0.100261</td>\n      <td>0.098655</td>\n      <td>0.100261</td>\n      <td>0.098655</td>\n      <td>False</td>\n      <td>False</td>\n    </tr>\n    <tr>\n      <th>3</th>\n      <td>3</td>\n      <td>0.090248</td>\n      <td>0.082711</td>\n      <td>0.090248</td>\n      <td>0.082711</td>\n      <td>False</td>\n      <td>False</td>\n    </tr>\n    <tr>\n      <th>4</th>\n      <td>4</td>\n      <td>0.089425</td>\n      <td>0.099651</td>\n      <td>0.089425</td>\n      <td>0.099651</td>\n      <td>False</td>\n      <td>False</td>\n    </tr>\n    <tr>\n      <th>5</th>\n      <td>5</td>\n      <td>0.076258</td>\n      <td>0.079721</td>\n      <td>0.076258</td>\n      <td>0.079223</td>\n      <td>False</td>\n      <td>True</td>\n    </tr>\n    <tr>\n      <th>6</th>\n      <td>6</td>\n      <td>0.091071</td>\n      <td>0.084704</td>\n      <td>0.091071</td>\n      <td>0.084704</td>\n      <td>False</td>\n      <td>False</td>\n    </tr>\n    <tr>\n      <th>7</th>\n      <td>7</td>\n      <td>0.088465</td>\n      <td>0.073244</td>\n      <td>0.088465</td>\n      <td>0.073244</td>\n      <td>False</td>\n      <td>False</td>\n    </tr>\n    <tr>\n      <th>8</th>\n      <td>8</td>\n      <td>0.074338</td>\n      <td>0.082711</td>\n      <td>0.074338</td>\n      <td>0.082711</td>\n      <td>False</td>\n      <td>False</td>\n    </tr>\n    <tr>\n      <th>9</th>\n      <td>9</td>\n      <td>0.088328</td>\n      <td>0.088191</td>\n      <td>0.088328</td>\n      <td>0.088191</td>\n      <td>False</td>\n      <td>False</td>\n    </tr>\n  </tbody>\n</table>\n</div>"
     },
     "metadata": {},
     "execution_count": 2
    }
   ],
   "source": [
    "import pandas as pd \n",
    "from final_func import *\n",
    "\n",
    "# Initialize problem variables\n",
    "y1_list =[i for i in range(0,10)]\n",
    "# y1_list=[1]\n",
    "y_min = y1_list[0]\n",
    "lamb=1\n",
    "e_in = []\n",
    "e_out = []\n",
    "e_in_tilde =[]\n",
    "e_out_tilde = []\n",
    "compare95 = []\n",
    "compare_tilde =[]\n",
    "\n",
    "for y1 in y1_list:\n",
    "    # Read from dataset\n",
    "    x,y= read_hw8_datasets('features.train',y1=y1)\n",
    "\n",
    "    #Read out of sample dataset\n",
    "    x_out,y_out = read_hw8_datasets('features.test',y1=y1)\n",
    "\n",
    "    # Convert to lists for compatibility\n",
    "    x = x.values.tolist()\n",
    "    y = y.values.tolist()\n",
    "    x_out = x_out.values.tolist()\n",
    "    y_out = y_out.values.tolist()\n",
    "\n",
    "    # Transform x to test case with transform\n",
    "    x_tilde = final_transform(x)\n",
    "    x_out_tilde = final_transform(x_out)\n",
    "\n",
    "    # Instantiate LinearRegression objects\n",
    "    linreg = LinearRegression(x,y)\n",
    "    linreg_tilde = LinearRegression(x_tilde,y)\n",
    "\n",
    "    # Fit\n",
    "    linreg.learn(lamb=lamb)\n",
    "    linreg_tilde.learn(lamb=lamb)\n",
    "\n",
    "    # Evaluate error in sample\n",
    "    e_in.append(linreg.test_learning(x,y))\n",
    "    e_in_tilde.append(linreg_tilde.test_learning(x_tilde,y))\n",
    "\n",
    "    #Evalute error out of sample\n",
    "    e_out.append(linreg.test_learning(x_out,y_out))\n",
    "    e_out_tilde.append(linreg_tilde.test_learning(x_out_tilde,y_out))\n",
    "\n",
    "# Compare: E_out_tilde <= 0.95 E_out in each point?\n",
    "for eouttilde,eout in zip(e_out_tilde,e_out):\n",
    "    compare95.append(eouttilde <= 0.95*eout)\n",
    "    compare_tilde.append(eouttilde < eout)\n",
    "\n",
    "# Turn into a dataframe for visualization\n",
    "df = pd.DataFrame({'y1':y1_list,'E_in':e_in,'E_out':e_out,'E_in~':e_in_tilde,'E_out~':e_out_tilde,'Comparison95':compare95,'E_out~ < Eout':compare_tilde})\n",
    "df"
   ]
  },
  {
   "source": [
    "# QUESTION 9 (ANSWER)\n",
    "\n",
    "**Alternative e.**"
   ],
   "cell_type": "markdown",
   "metadata": {}
  },
  {
   "source": [
    "# QUESTION 10 (CODE)"
   ],
   "cell_type": "markdown",
   "metadata": {}
  },
  {
   "cell_type": "code",
   "execution_count": 3,
   "metadata": {},
   "outputs": [
    {
     "output_type": "execute_result",
     "data": {
      "text/plain": [
       "   Lambda      E_in     E_out\n",
       "0    0.01  0.004484  0.028302\n",
       "1    1.00  0.005125  0.025943"
      ],
      "text/html": "<div>\n<style scoped>\n    .dataframe tbody tr th:only-of-type {\n        vertical-align: middle;\n    }\n\n    .dataframe tbody tr th {\n        vertical-align: top;\n    }\n\n    .dataframe thead th {\n        text-align: right;\n    }\n</style>\n<table border=\"1\" class=\"dataframe\">\n  <thead>\n    <tr style=\"text-align: right;\">\n      <th></th>\n      <th>Lambda</th>\n      <th>E_in</th>\n      <th>E_out</th>\n    </tr>\n  </thead>\n  <tbody>\n    <tr>\n      <th>0</th>\n      <td>0.01</td>\n      <td>0.004484</td>\n      <td>0.028302</td>\n    </tr>\n    <tr>\n      <th>1</th>\n      <td>1.00</td>\n      <td>0.005125</td>\n      <td>0.025943</td>\n    </tr>\n  </tbody>\n</table>\n</div>"
     },
     "metadata": {},
     "execution_count": 3
    }
   ],
   "source": [
    "import pandas as pd \n",
    "from final_func import *\n",
    "\n",
    "# Initialize problem variables\n",
    "lamb_list = [0.01,1]\n",
    "y1=1\n",
    "y2=5\n",
    "\n",
    "e_in = []\n",
    "e_out = []\n",
    "e_in_tilde =[]\n",
    "e_out_tilde = []\n",
    "compare95 = []\n",
    "compare_tilde =[]\n",
    "\n",
    "for lamb in lamb_list:\n",
    "    # Read from dataset\n",
    "    x,y= read_hw8_datasets('features.train',y1=y1,y2=y2)\n",
    "\n",
    "    #Read out of sample dataset\n",
    "    x_out,y_out = read_hw8_datasets('features.test',y1=y1,y2=y2)\n",
    "\n",
    "    # Convert to lists for compatibility\n",
    "    x = x.values.tolist()\n",
    "    y = y.values.tolist()\n",
    "    x_out = x_out.values.tolist()\n",
    "    y_out = y_out.values.tolist()\n",
    "\n",
    "    # Transform x to test case with transform\n",
    "    x = final_transform(x)\n",
    "    x_out = final_transform(x_out)\n",
    "\n",
    "    # Instantiate LinearRegression objects\n",
    "    linreg = LinearRegression(x,y)\n",
    "\n",
    "    # Fit\n",
    "    linreg.learn(lamb=lamb)\n",
    "\n",
    "    # Evaluate error in sample\n",
    "    e_in.append(linreg.test_learning(x,y))\n",
    "\n",
    "    #Evalute error out of sample\n",
    "    e_out.append(linreg.test_learning(x_out,y_out))\n",
    "\n",
    "# Turn into a dataframe for visualization\n",
    "df = pd.DataFrame({'Lambda':lamb_list,'E_in':e_in,'E_out':e_out})\n",
    "df"
   ]
  },
  {
   "source": [
    "# QUESTION 10\n",
    "\n",
    "From the above code, the correct alternatives are **alternative a**. Using $\\lambda = 0.01$ results in higher $E_{out}$ despite lower $E_{in}$, indicating the presence of overfitting!"
   ],
   "cell_type": "markdown",
   "metadata": {}
  },
  {
   "source": [
    "# QUESTION 11\n",
    "\n",
    "2DO"
   ],
   "cell_type": "markdown",
   "metadata": {}
  },
  {
   "source": [
    "# QUESTION 12 (CODE)"
   ],
   "cell_type": "markdown",
   "metadata": {}
  },
  {
   "cell_type": "code",
   "execution_count": 4,
   "metadata": {},
   "outputs": [
    {
     "output_type": "stream",
     "name": "stdout",
     "text": [
      "5\n"
     ]
    }
   ],
   "source": [
    "from sklearn.svm import SVC\n",
    "from final_func import *\n",
    "\n",
    "# Read that (compatible with the funciton made for hw8)\n",
    "x,y= read_hw8_datasets('svm.data',y1=y1)\n",
    "\n",
    "# Define SVM model constants\n",
    "C = 10000000000000000 #Hard margin\n",
    "kernel='poly'\n",
    "Q=2\n",
    "\n",
    "#Instantiate SVC object\n",
    "svm = SVC(C=C,kernel=kernel,degree=Q,coef0=1,gamma=1)\n",
    "\n",
    "#Fit\n",
    "svm.fit(x,y)\n",
    "\n",
    "#Number of support vectors\n",
    "n_sup = sum(i for i in svm.n_support_)\n",
    "\n",
    "#Print result\n",
    "print(n_sup)"
   ]
  },
  {
   "source": [
    "# QUESTION 12 (ANSWER)\n",
    "\n",
    "From the above code, the correct answer is **alternative c.**"
   ],
   "cell_type": "markdown",
   "metadata": {}
  },
  {
   "source": [
    "# QUESTIONS 13, 14, 15, 16 AND 18 (CODE)"
   ],
   "cell_type": "markdown",
   "metadata": {}
  },
  {
   "cell_type": "code",
   "execution_count": 5,
   "metadata": {},
   "outputs": [
    {
     "output_type": "stream",
     "name": "stdout",
     "text": [
      "Running experiment number 0...\n",
      "Running experiment number 50...\n",
      "Running experiment number 100...\n",
      "Running experiment number 150...\n",
      "Running experiment number 200...\n",
      "Running experiment number 250...\n",
      "Running experiment number 300...\n",
      "Running experiment number 350...\n",
      "Running experiment number 400...\n",
      "Running experiment number 450...\n",
      "Total runs: 500\n",
      "\n",
      "QUESTION 13:\n",
      "Total not separable: 0\n",
      "Percentage not separable: 0.0%\n",
      "\n",
      "QUESTION 14:\n",
      "Total where kernel form has lower Eout than K1=9 clusters: 400\n",
      "Percentage: 80.0%\n",
      "\n",
      "QUESTION 15:\n",
      "Total where kernel form has lower Eout than K2=12 clusters: 341\n",
      "Percentage: 68.0%\n",
      "\n",
      "QUESTION 16:\n",
      "Most frequent alternative: d\n",
      "\n",
      "QUESTION 18:\n",
      "Total separable with K1=9 clusters: 13\n",
      "Percentage: 3.0%\n"
     ]
    }
   ],
   "source": [
    "from final_func import *\n",
    "\n",
    "#See final_func.py for implemention details\n",
    "questionsRBF(N_train=100,N_test=100,N_exp=500)"
   ]
  },
  {
   "source": [
    "# QUESTIONS 13, 14, 15, 16 AND 18 (ANSWERS)\n",
    "\n",
    "From the above code, the answers answers\n",
    "\n",
    "## QUESTION 13\n",
    "**Alternative a.**\n",
    "\n",
    "## QUESTION 14\n",
    "**Alternative e.**\n",
    "\n",
    "## QUESTION 15\n",
    "**Alternative d.**\n",
    "\n",
    "## QUESTION 16\n",
    "**Alternative d.**\n",
    "\n",
    "## QUESTION 18\n",
    "**Alternative a.**"
   ],
   "cell_type": "markdown",
   "metadata": {}
  },
  {
   "source": [
    "# QUESTION 17 (CODE)"
   ],
   "cell_type": "markdown",
   "metadata": {}
  },
  {
   "cell_type": "code",
   "execution_count": 6,
   "metadata": {},
   "outputs": [
    {
     "output_type": "stream",
     "name": "stdout",
     "text": [
      "Running experiment number 0...\n",
      "Running experiment number 50...\n",
      "Running experiment number 100...\n",
      "Running experiment number 150...\n",
      "Running experiment number 200...\n",
      "Running experiment number 250...\n",
      "Running experiment number 300...\n",
      "Running experiment number 350...\n",
      "Running experiment number 400...\n",
      "Running experiment number 450...\n",
      "QUESTION 17:\n",
      "Total count for each alternative: {'a': 33, 'b': 35, 'c': 97, 'd': 50, 'e': 76}\n",
      "Most frequent alternative: c\n"
     ]
    }
   ],
   "source": [
    "from final_func import *\n",
    "\n",
    "# See final_func.py for details\n",
    "question17(N_train=100,N_test=100,N_exp=500)"
   ]
  },
  {
   "source": [
    "# QUESTION 17 (ANSWER)\n",
    "\n",
    "From the above code, the correct alternative is **alternative c.**"
   ],
   "cell_type": "markdown",
   "metadata": {}
  },
  {
   "source": [
    "# QUESTION 19\n",
    "\n",
    "**Alternative b.**"
   ],
   "cell_type": "markdown",
   "metadata": {}
  },
  {
   "source": [
    "# QUESTION 20\n",
    "\n",
    "**Alternative c.**"
   ],
   "cell_type": "markdown",
   "metadata": {}
  },
  {
   "cell_type": "code",
   "execution_count": null,
   "metadata": {},
   "outputs": [],
   "source": []
  }
 ]
}