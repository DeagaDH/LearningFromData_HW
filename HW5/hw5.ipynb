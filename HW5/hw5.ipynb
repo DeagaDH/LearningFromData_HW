{
 "metadata": {
  "language_info": {
   "codemirror_mode": {
    "name": "ipython",
    "version": 3
   },
   "file_extension": ".py",
   "mimetype": "text/x-python",
   "name": "python",
   "nbconvert_exporter": "python",
   "pygments_lexer": "ipython3",
   "version": "3.8.3-final"
  },
  "orig_nbformat": 2,
  "kernelspec": {
   "name": "python3",
   "display_name": "Python 3",
   "language": "python"
  }
 },
 "nbformat": 4,
 "nbformat_minor": 2,
 "cells": [
  {
   "source": [
    "# QUESTION 1\n",
    "\n",
    "Solving the given equation for N, we get to the form\n",
    "\n",
    "\\begin{equation}\n",
    "N = \\frac{(d+1)\\sigma^2}{\\sigma^2-E_{in}}\n",
    "\\end{equation}\n",
    "\n",
    "To find the $N$ that gives $E_{in} = 0.08$ with $\\sigma = 0.1$ and $d=8$, we can substitute these values, arriving at:\n",
    "\n",
    "\\begin{equation}\n",
    "\\boxed{N = 45}\n",
    "\\end{equation}\n",
    "\n",
    "Analysing the equation given by the problem, we can see that, as $N$ increases, so does the expected value of $E_in$. Therefore, the first alternative with $N > 45$ is the correct answer (\"which among the following choices is the smallest\n",
    "number of examples N that will result in an expected Ein greater than 0.008?\"). Therefore, the correct alternative is **alternative c (N_c = 100).**\n",
    "\n"
   ],
   "cell_type": "markdown",
   "metadata": {}
  },
  {
   "source": [
    "# QUESTION 2\n",
    "\n",
    "The hypothesis in the transformed space will be of form:\n",
    "\n",
    "\\begin{equation}\n",
    "h(s) = \\text{sign}(\\tilde{w}_0 + \\tilde{w}_1 x_1^2 + \\tilde{w}_2 x_2^2) \n",
    "\\end{equation}\n",
    "\n",
    "From the picture given in the problem, we know that the origin $x_1 = x_2 = 0$ has a +1 value, so that $h(s) = +1$ in that point. From this, it follows that $\\tilde{w}_0 = +1$. Next, we can look at values along the horizontal axis ($x_2 = 0$) where $x_1$ is large enough in either direction so that we end in the negative regions of the classification. In this situation, the hypothesis simplifies to:\n",
    "\n",
    "\\begin{equation}\n",
    "h(s) = \\text{sign}(\\tilde{w}_0 + \\tilde{w}_1 x_1^2) = -1\n",
    "\\end{equation}\n",
    "\n",
    "Since $\\tilde{w}_0 = +1$ and $x_1 ^2 > 0$, we must have $\\tilde{w}_1 < 0$ for this equation to hold. Now consider a different point in the transformed space with the same $x_1$ coordinate, but a higher value of $x_2$ so that it $h(s)$ once again falls into the region classified as $+1$. In this case, we once again work with the complete hypothesis:\n",
    "\n",
    "\\begin{equation}\n",
    "h(s) = \\text{sign}(\\underbrace{\\tilde{w}_0}_{=+1} + \\underbrace{\\tilde{w}_1 x_1^2}_{< -1} + \\tilde{w}_2 x_2^2) = +1\n",
    "\\end{equation}\n",
    "\n",
    "From the previous discussion, we know that $\\tilde{w}_0 = +1$ and that not only $\\tilde{w}_1 < 0$, but also more specifically that $\\tilde{w}_1 x_1^2 < -1$, so that the point $(x_1,0)$ can fall into the negative region. If we are now taking a point $(x_1,x_2)$ with $x_2$ large enough to fall into the positive region, it folows that we must have $\\tilde{w}_2 > 0$, so that the above equation can hold.\n",
    "\n",
    "Therefore, it has been found that $\\tilde{w}_1 < 0$ and $\\tilde{w}_2 > 0$. The alternative that correctly describes this scenario is **alternative d**."
   ],
   "cell_type": "markdown",
   "metadata": {}
  },
  {
   "source": [
    "# QUESTION 3\n",
    "\n",
    "From the $\\Phi$ function given, we know there are $14$ parameters in the model (not counting the fixed parameter 1), which gives us a VC dimension $d_{VC} = 14+1 = 15$.  Therefore, the smallest alternative that is not smaller than $d_{VC}$ is **alternative c (15).**"
   ],
   "cell_type": "markdown",
   "metadata": {}
  },
  {
   "source": [
    "# QUESTION 4\n",
    "\n",
    "Applying the chain rule, the correct alternative is **alternative e**."
   ],
   "cell_type": "markdown",
   "metadata": {}
  },
  {
   "source": [
    "# QUESTIONS 5 AND 6 (CODE)"
   ],
   "cell_type": "markdown",
   "metadata": {}
  },
  {
   "cell_type": "code",
   "execution_count": 14,
   "metadata": {},
   "outputs": [
    {
     "output_type": "stream",
     "name": "stdout",
     "text": [
      "10\n(u,v) = (0.045,0.024)\n"
     ]
    }
   ],
   "source": [
    "from math import e\n",
    "\n",
    "#Implement functions for the error function and its two partial derivatives\n",
    "\n",
    "def E(u,v):\n",
    "    return (u*e**v - 2*v*e**-u)**2\n",
    "\n",
    "def dEdu(u,v):\n",
    "    return 2*(u*e**v - 2*v*e**-u)*(e**v + 2*v*e**-u)\n",
    "\n",
    "def dEdv(u,v):\n",
    "    return 2*(u*e**v - 2*v*e**-u)*(u*e**v - 2*e**-u)\n",
    "\n",
    "def gradE(u,v):\n",
    "    return dEdu(u,v) + dEdv(u,v)\n",
    "\n",
    "#Initialize u and v\n",
    "u=1\n",
    "v=1\n",
    "\n",
    "#Evaluate initial error\n",
    "error=E(u,v)\n",
    "\n",
    "#Iterate until error is smaller than a tolerance and count iterations\n",
    "tol=10**-14\n",
    "it=0\n",
    "\n",
    "#Learning rate\n",
    "eta=0.1\n",
    "\n",
    " \n",
    "while True:\n",
    "    #Save old error value\n",
    "    error_old = error\n",
    "    \n",
    "    #Increment iteration counter\n",
    "    it +=1\n",
    "\n",
    "    #Evalute new u and v from gradient descent -> a step in the gradient\n",
    "    u_new = u - eta*dEdu(u,v)\n",
    "    v -= eta*dEdv(u,v)\n",
    "    u = u_new #Only overwrite u later to properly evaluate v\n",
    "\n",
    "    #Calculate new error value\n",
    "    error = E(u,v)\n",
    "\n",
    "    if (error < tol or it > 1000):\n",
    "        break\n",
    "\n",
    "print(it)\n",
    "print(f'(u,v) = ({round(u,3)},{round(v,3)})')\n"
   ]
  },
  {
   "source": [
    "# QUESTIONS 5 AND 6 (ANSWERS)\n",
    "\n",
    "### Question 5\n",
    "From the above code, we can see the correct alternative is **alternative d (10 iterations)**.\n",
    "\n",
    "### Question 6\n",
    "From the above code, we can see the correct alternative is **alternative e ((u,v) = (0.045,0.024))**."
   ],
   "cell_type": "markdown",
   "metadata": {}
  },
  {
   "source": [
    "# QUESTION 7 (CODE)"
   ],
   "cell_type": "markdown",
   "metadata": {}
  },
  {
   "cell_type": "code",
   "execution_count": 15,
   "metadata": {},
   "outputs": [
    {
     "output_type": "stream",
     "name": "stdout",
     "text": [
      "0.13981379199615324\n(u,v) = (6.297,-2.852)\n"
     ]
    }
   ],
   "source": [
    "from math import e\n",
    "\n",
    "#Implement functions for the error function and its two partial derivatives\n",
    "\n",
    "def E(u,v):\n",
    "    return (u*e**v - 2*v*e**-u)**2\n",
    "\n",
    "def dEdu(u,v):\n",
    "    return 2*(u*e**v - 2*v*e**-u)*(e**v + 2*v*e**-u)\n",
    "\n",
    "def dEdv(u,v):\n",
    "    return 2*(u*e**v - 2*v*e**-u)*(u*e**v - 2*e**-u)\n",
    "\n",
    "def gradE(u,v):\n",
    "    return dEdu(u,v) + dEdv(u,v)\n",
    "\n",
    "#Initialize u and v\n",
    "u=1\n",
    "v=1\n",
    "\n",
    "#Evaluate initial error\n",
    "error=E(u,v)\n",
    "\n",
    "#Repeat for 'it' iterations\n",
    "it = 15\n",
    "\n",
    "#Learning rate\n",
    "eta=0.1\n",
    "\n",
    " \n",
    "for i in range(it):\n",
    "    #Save old error value\n",
    "    error_old = error\n",
    "    \n",
    "    #Increment iteration counter\n",
    "    it +=1\n",
    "\n",
    "    # Evalute new u from coordinate descent\n",
    "    u -= eta*dEdu(u,v)\n",
    "\n",
    "    # Now evaluate v\n",
    "    v -= eta*dEdv(u,v)\n",
    "\n",
    "    #Calculate new error value\n",
    "    error = E(u,v)\n",
    "\n",
    "\n",
    "print(error)\n",
    "print(f'(u,v) = ({round(u,3)},{round(v,3)})')\n"
   ]
  },
  {
   "source": [
    "# QUESTION 7\n",
    "\n",
    "From the above code, we can see that the error term, after 15 iterations, has order of $10^{-1}$. Therefore, the correct alternative is **alternative a.**."
   ],
   "cell_type": "markdown",
   "metadata": {}
  },
  {
   "source": [
    "# QUESTION 8 (CODE)"
   ],
   "cell_type": "markdown",
   "metadata": {}
  },
  {
   "cell_type": "code",
   "execution_count": 7,
   "metadata": {},
   "outputs": [
    {
     "output_type": "execute_result",
     "data": {
      "text/plain": [
       "[3, 4]"
      ]
     },
     "metadata": {},
     "execution_count": 7
    }
   ],
   "source": [
    "import random\n",
    "\n",
    "a=[[1,2],[3,4],[5,6]]\n",
    "b=random.choice(a)\n",
    "b"
   ]
  },
  {
   "cell_type": "code",
   "execution_count": 9,
   "metadata": {},
   "outputs": [
    {
     "output_type": "execute_result",
     "data": {
      "text/plain": [
       "[3, 4]"
      ]
     },
     "metadata": {},
     "execution_count": 9
    }
   ],
   "source": [
    "a[a.index([3,4])]"
   ]
  },
  {
   "cell_type": "code",
   "execution_count": 23,
   "metadata": {},
   "outputs": [
    {
     "output_type": "stream",
     "name": "stdout",
     "text": [
      "3.7416573867739413\n"
     ]
    }
   ],
   "source": [
    "import numpy as np\n",
    "\n",
    "a=[1,2,3]\n",
    "print(np.linalg.norm(a,ord=2,axis=0))"
   ]
  },
  {
   "cell_type": "code",
   "execution_count": null,
   "metadata": {},
   "outputs": [],
   "source": []
  }
 ]
}