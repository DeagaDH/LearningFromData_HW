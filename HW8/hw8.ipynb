{
 "metadata": {
  "language_info": {
   "codemirror_mode": {
    "name": "ipython",
    "version": 3
   },
   "file_extension": ".py",
   "mimetype": "text/x-python",
   "name": "python",
   "nbconvert_exporter": "python",
   "pygments_lexer": "ipython3",
   "version": "3.8.5-final"
  },
  "orig_nbformat": 2,
  "kernelspec": {
   "name": "bootcamp",
   "display_name": "bootcamp",
   "language": "python"
  }
 },
 "nbformat": 4,
 "nbformat_minor": 2,
 "cells": [
  {
   "source": [
    "# QUESTION 1\n",
    "\n",
    "The quadratic problem will involve optimization of $d+1$ variables: all $d$ parameters in the weight vector $\\boldsymbol w$ plut the bias term $b$. Therefore, **alternative d is correct.**"
   ],
   "cell_type": "markdown",
   "metadata": {}
  },
  {
   "source": [
    "# QUESTIONS 2, 3 AND 4 (CODE)"
   ],
   "cell_type": "markdown",
   "metadata": {}
  },
  {
   "cell_type": "code",
   "execution_count": 2,
   "metadata": {},
   "outputs": [
    {
     "output_type": "stream",
     "name": "stdout",
     "text": [
      "QUESTION 2\n",
      "Corresponding y1 = 0\n",
      "Ein = 0.106\n",
      "N support vectors = 2179\n",
      "\n",
      "QUESTION 3\n",
      "Corresponding y1 = 1\n",
      "Ein = 0.014\n",
      "N support vectors = 386\n",
      "\n",
      "QUESTION 4\n",
      "Difference in N support vectors: 1793\n"
     ]
    }
   ],
   "source": [
    "from hw8_func import *\n",
    "\n",
    "#See hw8.py for implementation details\n",
    "\n",
    "#Solving Question 2\n",
    "y2, error2, n2 = questions2and3(filepath='festures.train',q=2)\n",
    "\n",
    "#Solving Question 3\n",
    "y3, error3, n3 = questions2and3(filepath='festures.train',q=3)\n",
    "\n",
    "#Solving Question 4\n",
    "print(\"QUESTION 4\")\n",
    "print(f\"Difference in N support vectors: {abs(n2-n3)}\")"
   ]
  },
  {
   "source": [
    "# QUESTIONS 2, 3 AND 4 (ANSWERS)\n",
    "\n",
    "From the above code, the answers answers\n",
    "\n",
    "## QUESTION 2\n",
    "**Alternative a.**\n",
    "\n",
    "## QUESTION 3\n",
    "**Alternative a.**\n",
    "\n",
    "## QUESTION 4\n",
    "**Alternative c.**"
   ],
   "cell_type": "markdown",
   "metadata": {}
  },
  {
   "source": [
    "# QUESTIONS 5 AND 6 (CODE)"
   ],
   "cell_type": "markdown",
   "metadata": {}
  },
  {
   "cell_type": "code",
   "execution_count": 1,
   "metadata": {},
   "outputs": [
    {
     "output_type": "stream",
     "name": "stdout",
     "text": [
      "Q = 2\n        C       Ein      Eout  N_sup\n0  0.0001  0.008969  0.016509    236\n1  0.0010  0.004484  0.016509     76\n2  0.0100  0.004484  0.018868     34\n3  0.1000  0.004484  0.018868     24\n4  1.0000  0.003203  0.018868     24\n\n\n\nQ = 5\n        C       Ein      Eout  N_sup\n0  0.0001  0.004484  0.018868     26\n1  0.0010  0.004484  0.021226     25\n2  0.0100  0.003844  0.021226     23\n3  0.1000  0.003203  0.018868     25\n4  1.0000  0.003203  0.021226     21\n"
     ]
    }
   ],
   "source": [
    "from hw8_func import *\n",
    "\n",
    "#See hw8.py for implementation details\n",
    "res2 = questions5and6(train_path='features.train',test_path='features.test',Q=2)\n",
    "res5 = questions5and6(train_path='features.train',test_path='features.test',Q=5)\n",
    "\n",
    "print('Q = 2')\n",
    "print(res2)\n",
    "print('\\n\\n')\n",
    "\n",
    "print('Q = 5')\n",
    "print(res5)"
   ]
  },
  {
   "source": [
    "# QUESTIONS 5 AND 6 (ANSWERS)\n",
    "\n",
    "From the above code, que answers answers\n",
    "\n",
    "## QUESTION 5\n",
    "**Alternative d.**\n",
    "\n",
    "## QUESTION 6\n",
    "**Alternative b.**"
   ],
   "cell_type": "markdown",
   "metadata": {}
  },
  {
   "source": [
    "# QUESTIONS 7 AND 8 (CODE)"
   ],
   "cell_type": "markdown",
   "metadata": {}
  },
  {
   "cell_type": "code",
   "execution_count": 3,
   "metadata": {},
   "outputs": [
    {
     "output_type": "stream",
     "name": "stdout",
     "text": [
      "Iteration 0...\n",
      "Iteration 10...\n",
      "Iteration 20...\n",
      "Iteration 30...\n",
      "Iteration 40...\n",
      "Iteration 50...\n",
      "Iteration 60...\n",
      "Iteration 70...\n",
      "Iteration 80...\n",
      "Iteration 90...\n",
      "\n",
      "{0.0001: 0, 0.001: 23, 0.01: 27, 0.1: 32, 1: 18}\n",
      "{0.0001: 'N/A', 0.001: 0.0036, 0.01: 0.0034, 0.1: 0.0034, 1: 0.0036}\n"
     ]
    }
   ],
   "source": [
    "from hw8_func import *\n",
    "from sklearn.svm import SVC\n",
    "from sklearn.metrics import make_scorer,accuracy_score\n",
    "from sklearn.model_selection import cross_val_score\n",
    "from sklearn.model_selection import ShuffleSplit\n",
    "import numpy as np\n",
    "\n",
    "#Set up problem values\n",
    "Q=2\n",
    "nfolds=10\n",
    "y1=1\n",
    "y2=5\n",
    "N=100\n",
    "\n",
    "# List of C values to cross validate\n",
    "C_list = [0.0001, 0.001, 0.01, 0.1, 1]\n",
    "\n",
    "#Empty dictionary for results\n",
    "res = {}\n",
    "\n",
    "#Empty dictionary for error\n",
    "error = {}\n",
    "\n",
    "# initialize dictionaries\n",
    "for C in C_list:\n",
    "    error[C] = []\n",
    "    res[C] = 0\n",
    "\n",
    "# Read dataset\n",
    "x,y= read_hw8_datasets('features.train',y1=y1,y2=y2)\n",
    "\n",
    "#Make a scorer function from zero_one_loss\n",
    "accuracy_scorer = make_scorer(accuracy_score, greater_is_better=True)\n",
    "\n",
    "for i in range(N):\n",
    "    if (i % 10 == 0):\n",
    "        print(f'Iteration {i}...')\n",
    "        \n",
    "    #Initialize SVC objects\n",
    "    svm_list = [SVC(C=C,kernel='poly',degree=Q,coef0=1,gamma=1) for C in C_list]\n",
    "\n",
    "    #Shuffle the 10 folds\n",
    "    cv = ShuffleSplit(n_splits=nfolds, test_size=0.2)\n",
    "\n",
    "    #List of scores\n",
    "    score_list = [cross_val_score(svm,x,y,cv=cv,scoring=accuracy_scorer) for svm in svm_list]\n",
    "\n",
    "    for j in range(len(score_list)):\n",
    "        score_list[j] = 1-np.average(score_list[j])\n",
    "\n",
    "    #Best score\n",
    "    best_score = min(score_list)\n",
    "\n",
    "    #Corresponding C\n",
    "    best_C = C_list[score_list.index(best_score)]\n",
    "\n",
    "    # Add to count\n",
    "    res[best_C] += 1\n",
    "\n",
    "    # Add error\n",
    "    error[best_C].append(best_score)\n",
    "\n",
    "print()\n",
    "print(res)\n",
    "\n",
    "# Average error values\n",
    "for e in error:\n",
    "    if error[e]:\n",
    "        error[e] = round(np.average(error[e]),4)\n",
    "    else:\n",
    "        error[e] = 'N/A'\n",
    "\n",
    "print(error)"
   ]
  },
  {
   "cell_type": "code",
   "execution_count": null,
   "metadata": {},
   "outputs": [],
   "source": [
    "from hw8_func import *\n",
    "\n",
    "#See hw8_func for implementation details\n",
    "res,error = questions7and8('features.train')\n",
    "\n",
    "#Print res (counts of how many times each C was chosen) and corresponding error\n",
    "print()\n",
    "print(res)\n",
    "\n",
    "# Average error values\n",
    "for e in error:\n",
    "    if error[e]:\n",
    "        error[e] = round(np.average(error[e]),4)\n",
    "    else:\n",
    "        error[e] = 'N/A'\n",
    "\n",
    "print(error)"
   ]
  },
  {
   "source": [
    "# QUESTIONS 7 AND 8 (ANSWERS)\n",
    "\n",
    "From the above code, the answers are:\n",
    "\n",
    "## QUESTION 7\n",
    "**Alternative c.** This differs from the answer key (where the correct alternative is b)\n",
    "\n",
    "## QUESTION 8\n",
    "**Alternative b.** This differs from the answer key (where the correct alternative is c)"
   ],
   "cell_type": "markdown",
   "metadata": {}
  },
  {
   "source": [
    "# QUESTIONS 9 AND 10 (CODE)"
   ],
   "cell_type": "markdown",
   "metadata": {}
  },
  {
   "cell_type": "code",
   "execution_count": 2,
   "metadata": {},
   "outputs": [
    {
     "output_type": "stream",
     "name": "stdout",
     "text": [
      "Minimum Ein\n           C       Ein      Eout\n4  1000000.0  0.000641  0.023585\n\n\n\nMinimum Eout\n       C       Ein      Eout\n2  100.0  0.003203  0.018868\n"
     ]
    }
   ],
   "source": [
    "from hw8_func import *\n",
    "\n",
    "#See hw8.py for implementation details\n",
    "\n",
    "res = questions9and10(train_path='features.train',test_path='features.test')\n",
    "\n",
    "# Display\n",
    "print(\"Minimum Ein\")\n",
    "print(res[res['Ein']==res['Ein'].min()])\n",
    "print('\\n\\n')\n",
    "print(\"Minimum Eout\")\n",
    "print(res[res['Eout']==res['Eout'].min()])"
   ]
  },
  {
   "source": [
    "# QUESTIONS 9 AND 10\n",
    "\n",
    "From the above code, the answers are:\n",
    "\n",
    "## QUESTION 9\n",
    "**Alternative e.**\n",
    "\n",
    "## QUESTION 10\n",
    "**Alternative c.**"
   ],
   "cell_type": "markdown",
   "metadata": {}
  },
  {
   "cell_type": "code",
   "execution_count": null,
   "metadata": {},
   "outputs": [],
   "source": []
  }
 ]
}