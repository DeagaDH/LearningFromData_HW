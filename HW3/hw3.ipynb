{
 "metadata": {
  "language_info": {
   "codemirror_mode": {
    "name": "ipython",
    "version": 3
   },
   "file_extension": ".py",
   "mimetype": "text/x-python",
   "name": "python",
   "nbconvert_exporter": "python",
   "pygments_lexer": "ipython3",
   "version": "3.8.5-final"
  },
  "orig_nbformat": 2,
  "kernelspec": {
   "name": "python3",
   "display_name": "Python 3",
   "language": "python"
  }
 },
 "nbformat": 4,
 "nbformat_minor": 2,
 "cells": [
  {
   "source": [
    "# QUESTIONS 1, 2 AND 3"
   ],
   "cell_type": "markdown",
   "metadata": {}
  },
  {
   "source": [
    "In these questions, we want to solve the problem\n",
    "\n",
    "\\begin{equation}\n",
    "2 M e^{-2\\epsilon^2 N} = k \\text{ ,}\n",
    "\\end{equation}\n",
    "\n",
    "where $k=0.03$, $\\epsilon = 0.05$ and $M$ has different values for Questions 1 ($M = 1$), 2 ($M = 10$) and 3 ($M = 100$). We must solve the given equation for $N$.\n",
    "\n",
    "Doing some algebraic manipulation,\n",
    "\n",
    "\\begin{align}\n",
    "2 M e^{-2\\epsilon^2 N} &= k \\\\\n",
    "e^{-2\\epsilon^2 N} &= \\frac{k}{2M} \\\\\n",
    "-2 \\epsilon^2 N &= \\ln \\frac{k}{2M} \\\\\n",
    "\\end{align}\n",
    "\\begin{equation}\n",
    "\\boxed{N = - \\frac{\\ln \\frac{k}{2M}}{2 \\epsilon^2}}\n",
    "\\end{equation}\n",
    "\n",
    "Plugging in the values for $k = 0.03$, $\\epsilon = 0.05$ and $M$ for each question, the final values of N are:\n",
    "\n",
    "### Question 1 ($M = 1$)\n",
    "\n",
    "\\begin{equation}\n",
    "\\boxed{N = 840} \\qquad \\text{(Alternative b)}\n",
    "\\end{equation}\n",
    "\n",
    "### Question 2 ($M = 10$)\n",
    "\n",
    "\\begin{equation}\n",
    "\\boxed{N = 1300} \\qquad \\text{(Alternative c)}\n",
    "\\end{equation}\n",
    "\n",
    "### Question 3 ($M = 100$)\n",
    "\n",
    "\\begin{equation}\n",
    "\\boxed{N = 1761} \\qquad \\text{(Alternative d)}\n",
    "\\end{equation}"
   ],
   "cell_type": "markdown",
   "metadata": {}
  },
  {
   "source": [
    "# QUESTION 4"
   ],
   "cell_type": "markdown",
   "metadata": {}
  },
  {
   "source": [
    "Consider that we initially have 3 points assigned the same value +1. These points define a plane, which separates the $R^3$ space in two parts. For the perceptron, one side of this plane should have all other points with the +1 value, while the other side should have all points with -1 value. Consider we now add a point (totalling 4 points) of value -1. It can go on either side of the plane; that will just define said side to be the -1 side, while the other side is the +1 side. If we add another point (totalling 5 points) of value -1, but place it on a different side of that same plane, we have now shattered the 3D perceptron, as a single perceptron won't be able to split these 5 points with just one plane. Therefore, **the breakpoint for the 3D Perceptron is 5 points (Alternative b)**."
   ],
   "cell_type": "markdown",
   "metadata": {}
  },
  {
   "source": [
    "# QUESTION 5"
   ],
   "cell_type": "markdown",
   "metadata": {}
  },
  {
   "source": [
    "From class, we know that (i), (ii) and (v) are all valid growth functions; they have been shown in class!\n",
    "\n",
    "From class, we also know of a very important restriction for growth functions: they are either identical to $2^N$ or, if not not, they **must** be bounded by a polynomial. Therefore, a function that's different from $2^N$, but not bounded by a polynomial in N, will *NOT* be a valid growth function! We must now analyse the two leftover functions, (iii) and (iv). In these two functions, $\\lfloor u \\rfloor$ is the biggest integer $\\leq u$.\n",
    "\n",
    "### Function (iii)\n",
    "\\begin{equation}\n",
    "\\sum_{i=1}^{\\lfloor \\sqrt{N} \\rfloor} {N \\choose i}\n",
    "\\end{equation}\n",
    "\n",
    "From the definition of the binomial coefficient, we have that\n",
    "\n",
    "\\begin{equation}\n",
    "{N \\choose i} = \\frac{N!}{i!(N-i)!}\n",
    "\\end{equation}\n",
    "\n",
    "Note that we will sum terms in that form up until $i = \\lfloor \\sqrt{N} \\rfloor$. The maximum term, therefore, is:\n",
    "\n",
    "\\begin{equation}\n",
    "{N \\choose \\lfloor \\sqrt{N} \\rfloor} = \\frac{N!}{\\lfloor \\sqrt{N} \\rfloor!(N-\\lfloor \\sqrt{N} \\rfloor)!}\n",
    "\\end{equation}\n",
    "\n",
    "In general, this will **NOT** be a polynomial. Therefore, **function (iii) is *NOT* a valid growth function!**\n",
    "\n",
    "### Function (iv)\n",
    "\\begin{equation}\n",
    "2^{\\lfloor N/2 \\rfloor}\n",
    "\\end{equation}\n",
    "\n",
    "This function is clearly not bounded by a polynomial (it's approximately $2^{N/2}$!) but also smaller than (ie not equal to) $2^N$. Therefore, **function (iv) is *NOT* a valid growth function!** \n",
    "\n",
    "## FINAL ANSWER\n",
    "Only functions (i), (ii) and (v) are valid growth functions: **alternative b**. "
   ],
   "cell_type": "markdown",
   "metadata": {}
  },
  {
   "source": [
    "# QUESTION 6"
   ],
   "cell_type": "markdown",
   "metadata": {}
  },
  {
   "source": [
    "First, let us remember the example from class with the Positive Intervals growth function. In the example from class, we used just one positive interval and it was shown that the break point was $k = 3$, as we could not reproduce the following example with just one interval:\n",
    "\n",
    "\\begin{equation}\n",
    "+1 \\qquad -1 \\qquad +1\n",
    "\\end{equation}\n",
    "\n",
    "Now let us consider the scenario of the homework problem, with two positive intervals. The above example is not shattered in this scenario, as we now have two intervals to work with. If we try $k = 4$ instead, we can arrive at the following possibilities:\n",
    "\n",
    "\\begin{equation}\n",
    "+1 \\qquad -1 \\qquad +1 \\qquad +1 \\\\\n",
    "+1 \\qquad -1 \\qquad +1 \\qquad -1 \\\\\n",
    "+1 \\qquad +1 \\qquad -1 \\qquad +1 \\\\\n",
    "-1 \\qquad +1 \\qquad -1 \\qquad +1\n",
    "\\end{equation}\n",
    "\n",
    "All of these are shattered with two intervals; therefore, the breakpoint is at some value $k>4$. With $k=5$, we can arrive at the following scenario:\n",
    "\n",
    "\\begin{equation}\n",
    "+1 \\qquad -1 \\qquad +1 \\qquad -1 \\qquad +1\n",
    "\\end{equation}\n",
    "\n",
    "This scenario cannot be shattered. Therefore, **the breakpoint for the \"2-intervals\" learning model is k=5 (Alternative c)**.\n"
   ],
   "cell_type": "markdown",
   "metadata": {}
  },
  {
   "source": [
    "# QUESTION 7\n",
    "\n",
    "We have two possibilities for the 2-intervals learning algorithm (LA): either the two intervals coincide, or they don't. The growth function $m_H(N)$ of the 2-intervals LA will be the sum of the growth functions of these two scenarios. They'll be evaluted below.\n",
    "\n",
    "### Case 1: The two intervals coincide\n",
    "\n",
    "In this case, the 2-intervals LA reduces to the Positive Intervals LA shown in class. The growth function for this learning algorithm was also derived in class as:\n",
    "\n",
    "\\begin{equation}\n",
    "m_H(N)_{1\\,int} = {N+1 \\choose 2} + 1\n",
    "\\end{equation}\n",
    "\n",
    "### Case 2: The two intervals don't coincide\n",
    "\n",
    "In this case, we will have the entire range of numbers split into 4 regions: 2 positive regions and 2 negative regions. We still have $N+1$ choices on where to place each interval. Therefore, this results in $N+1$ choose 4, or\n",
    "\n",
    "\\begin{equation}\n",
    "m_H(N)_{2\\,int} = {N+1 \\choose 4}\n",
    "\\end{equation}\n",
    "\n",
    "### Final answer\n",
    "The final answer is, Therefore\n",
    "\\begin{equation}\n",
    "m_H (N) = m_H(N)_{2\\,int} + m_H(N)_{1\\,int}\n",
    "\\end{equation}\n",
    "\n",
    "\\begin{equation}\n",
    "\\boxed{m_H (N) = {N+1 \\choose 4} + {N+1 \\choose 2} + 1} \\qquad \\text{(Alternative c)}\n",
    "\\end{equation}"
   ],
   "cell_type": "markdown",
   "metadata": {}
  },
  {
   "source": [
    "# QUESTION 8\n",
    "\n",
    "Before considering the \"M-intervals\" general scenario, let's analyse the two scenarios seen previously: Positive Intervals (ie 1-interval) and 2-intervals. For 1-interval, the break point was $k=3$, while for 2-intervals, the break point was $k=5$. Let us verify which of the alternatives fit these two models:\n",
    "\n",
    "\n",
    "#### Alternative a: $k=M$\n",
    "This alternative fits neither 1-interval ($M = 1,k = 3$) nor 2-intervals ($M = 2, k = 5$). Therefore, it is incorrect.\n",
    "\n",
    "#### Alternative b: $k=M + 1$\n",
    "This alternative fits neither 1-interval ($M = 1,k = 3, M+1 = 2$) nor 2-intervals ($M = 2, k = 5, M+1 = 3$). Therefore, it is incorrect.\n",
    "\n",
    "#### Alternative c: $k=M^2$\n",
    "This alternative fits neither 1-interval ($M = 1,k = 3, M^2 = 1$) nor 2-intervals ($M = 2, k = 5, M^2 = 4$). Therefore, it is incorrect.\n",
    "\n",
    "#### Alternative d: $k=2M + 1$\n",
    "This alternative fits both 1-interval ($M = 1,k = 3, 2M + 1 = 3$) and 2-intervals ($M = 2, k = 5, 2M + 1 = 5$). Therefore, it is a candidate for a correct alternative.\n",
    "\n",
    "#### Alternative e: $k=2M -1 1$\n",
    "This alternative fits neither 1-interval ($M = 1,k = 3, 2M - 1 = 1$) nor 2-intervals ($M = 2, k = 5, 2M - 1 =3$). Therefore, it is incorrect.\n",
    "\n",
    "Only alternative d fits the two learning models we've already analysed. Therefore, **the correct alternative must be alternative d**."
   ],
   "cell_type": "markdown",
   "metadata": {}
  },
  {
   "source": [
    "# QUESTION 9\n",
    "\n",
    "By brute forcing the problem, the answer is 7 (Alternative c). This seems to line with the VC dimension of a N-sided polygon being 2N + 1, which will also yield 7 for a triangle.\n",
    "\n",
    "As for the brute force: lay down points in the perimeter of a circle or triangle (a convex shape, so that no point is \"inside\" the others; such a configuration can't ever be shattered by a convex shape, akin to colinear points not being shattered by a perceptron!) and try to have a single triangle encompass all the +1 points, but no -1 points. With 7 points, the points are laid alternatively, then they'll be impossible to shatter, despite being in a convex configuration. Below is a rough sketch of how to lay down the points to achieve this:\n",
    "\n",
    "                                                            -1\n",
    "\n",
    "                                                    +1               +1\n",
    "                                            \n",
    "                                            -1                              -1\n",
    "\n",
    "                                     +1                                             +1\n",
    "                                            "
   ],
   "cell_type": "markdown",
   "metadata": {}
  },
  {
   "source": [
    "# QUESTION 10\n",
    "\n",
    "Consider a transformation to polar coordinates (r,$\\theta$) where $r^2 = x_1^2 + x_2^2$. Our problem is then defined as\n",
    "\n",
    "\\begin{equation}\n",
    "a^2 \\leq r^2 \\leq b^2\n",
    "\\end{equation}\n",
    "\n",
    "Or, more simply\n",
    "\n",
    "\\begin{equation}\n",
    "a \\leq r \\leq b\n",
    "\\end{equation}\n",
    "\n",
    "This is the 1-interval (ie Positive Intervals) learning algorithm studied in class! The growth function was also demonstrated in class:\n",
    "\n",
    "\\begin{equation}\n",
    "\\boxed{m_H(N) = {N+1 \\choose 2} + 1} \\qquad (Alternative b)\n",
    "\n",
    "P.S: Since we're analysing concentric circles, this will hold true for any value of $\\theta$, as long as the condition given for $r$ is satisfied!"
   ],
   "cell_type": "markdown",
   "metadata": {}
  },
  {
   "cell_type": "code",
   "execution_count": null,
   "metadata": {},
   "outputs": [],
   "source": []
  }
 ]
}